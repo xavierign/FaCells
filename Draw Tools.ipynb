{
 "cells": [
  {
   "cell_type": "code",
   "execution_count": 1,
   "metadata": {},
   "outputs": [],
   "source": [
    "#read the photo an change size\n",
    "import numpy as np\n",
    "import cv2\n",
    "dirName = 'photos/'\n",
    "imName = 'vespa.jpg'\n",
    "im = cv2.imread(dirName + imName);\n",
    "im.size\n",
    "imgray = cv2.cvtColor(im, cv2.COLOR_BGR2GRAY)\n",
    "dst = cv2.resize(imgray, None, fx = 0.5, fy=0.5)\n",
    "im = cv2.imwrite(dirName + 'vespa.png',dst);\n",
    "#dst = imgray"
   ]
  },
  {
   "cell_type": "code",
   "execution_count": 2,
   "metadata": {},
   "outputs": [],
   "source": [
    "#Functions\n",
    "#creates csv with masks of layers of grays\n",
    "def segmentImg (im,segArray,path=\"\", cum=True):\n",
    "    for i in range(len(segArray)):\n",
    "        ret,thresh1 = cv2.threshold(im,segArray[i],255,cv2.THRESH_BINARY)\n",
    "        print(thresh1)\n",
    "        cv2.imwrite( path + \"n__\" + str(i)  + \".jpg\", thresh1);\n",
    "\n",
    "        #black pen on white paper\n",
    "        np.savetxt(\"n__\"+str(i)+\".csv\", 1-thresh1/255, delimiter=\",\", fmt='%f')\n",
    "        \n",
    "        #white pen on black paper\n",
    "        #np.savetxt(\"n__\"+str(i)+\".csv\", thresh1/255, delimiter=\",\", fmt='%f')"
   ]
  },
  {
   "cell_type": "code",
   "execution_count": 3,
   "metadata": {},
   "outputs": [
    {
     "name": "stdout",
     "output_type": "stream",
     "text": [
      "[[255 255 255 ... 255 255 255]\n",
      " [255 255 255 ... 255 255 255]\n",
      " [255 255 255 ... 255 255 255]\n",
      " ...\n",
      " [255 255 255 ... 255 255 255]\n",
      " [255 255 255 ... 255 255 255]\n",
      " [255 255 255 ... 255 255 255]]\n",
      "[[255 255 255 ... 255 255 255]\n",
      " [255 255 255 ... 255 255 255]\n",
      " [255 255 255 ... 255 255 255]\n",
      " ...\n",
      " [255 255 255 ... 255 255 255]\n",
      " [255 255 255 ... 255 255 255]\n",
      " [255 255 255 ... 255 255 255]]\n",
      "[[255 255 255 ... 255 255 255]\n",
      " [255 255 255 ... 255 255 255]\n",
      " [255 255 255 ... 255 255 255]\n",
      " ...\n",
      " [255 255 255 ... 255 255 255]\n",
      " [255 255 255 ... 255 255 255]\n",
      " [255 255 255 ... 255 255 255]]\n",
      "[[  0   0   0 ...   0   0   0]\n",
      " [  0   0   0 ...   0   0   0]\n",
      " [  0   0   0 ...   0   0   0]\n",
      " ...\n",
      " [255 255 255 ...   0   0   0]\n",
      " [255 255 255 ...   0   0   0]\n",
      " [255 255 255 ... 255   0   0]]\n"
     ]
    }
   ],
   "source": [
    "segmentImg(dst,[38,60,100,160], path=\"photos/\")"
   ]
  },
  {
   "cell_type": "code",
   "execution_count": 4,
   "metadata": {},
   "outputs": [
    {
     "ename": "ModuleNotFoundError",
     "evalue": "No module named 'filters'",
     "output_type": "error",
     "traceback": [
      "\u001b[0;31m---------------------------------------------------------------------------\u001b[0m",
      "\u001b[0;31mModuleNotFoundError\u001b[0m                       Traceback (most recent call last)",
      "Cell \u001b[0;32mIn[4], line 3\u001b[0m\n\u001b[1;32m      1\u001b[0m \u001b[38;5;66;03m#### function convert to svg\u001b[39;00m\n\u001b[0;32m----> 3\u001b[0m \u001b[38;5;28;01mimport\u001b[39;00m \u001b[38;5;21;01mlinedraw\u001b[39;00m\u001b[38;5;21;01m.\u001b[39;00m\u001b[38;5;21;01mlinedraw\u001b[39;00m \u001b[38;5;28;01mas\u001b[39;00m \u001b[38;5;21;01mld\u001b[39;00m\n\u001b[1;32m      5\u001b[0m \u001b[38;5;28;01mdef\u001b[39;00m \u001b[38;5;21mconvertToLinesSvg\u001b[39m(inFile):\n\u001b[1;32m      6\u001b[0m     \u001b[38;5;66;03m#svgDir = \"./celeba-dataset/img_align_celeba/svg/\"\u001b[39;00m\n\u001b[1;32m      7\u001b[0m     svgDir \u001b[38;5;241m=\u001b[39m \u001b[38;5;124m\"\u001b[39m\u001b[38;5;124m\"\u001b[39m\n",
      "File \u001b[0;32m~/Library/Mobile Documents/com~apple~CloudDocs/Documents/Art/AI experiments/deepFaceDraw/FaCells/linedraw/linedraw.py:7\u001b[0m\n\u001b[1;32m      3\u001b[0m \u001b[38;5;28;01mimport\u001b[39;00m \u001b[38;5;21;01margparse\u001b[39;00m\n\u001b[1;32m      5\u001b[0m \u001b[38;5;28;01mfrom\u001b[39;00m \u001b[38;5;21;01mPIL\u001b[39;00m \u001b[38;5;28;01mimport\u001b[39;00m Image, ImageDraw, ImageOps\n\u001b[0;32m----> 7\u001b[0m \u001b[38;5;28;01mfrom\u001b[39;00m \u001b[38;5;21;01mfilters\u001b[39;00m \u001b[38;5;28;01mimport\u001b[39;00m \u001b[38;5;241m*\u001b[39m\n\u001b[1;32m      8\u001b[0m \u001b[38;5;28;01mimport\u001b[39;00m \u001b[38;5;21;01mstrokesort\u001b[39;00m\n\u001b[1;32m      9\u001b[0m \u001b[38;5;28;01mimport\u001b[39;00m \u001b[38;5;21;01mperlin\u001b[39;00m\n",
      "\u001b[0;31mModuleNotFoundError\u001b[0m: No module named 'filters'"
     ]
    }
   ],
   "source": [
    "#### function convert to svg\n",
    "\n",
    "import linedraw.linedraw as ld\n",
    "\n",
    "def convertToLinesSvg(inFile):\n",
    "    #svgDir = \"./celeba-dataset/img_align_celeba/svg/\"\n",
    "    svgDir = \"\"\n",
    "    #fileNumber = inFile[51:57]\n",
    "    ld.no_cv = False\n",
    "    #ld.export_path = svgDir + fileNumber + \".svg\"\n",
    "    ld.export_path = \"turing.svg\"\n",
    "    ld.draw_contours = True\n",
    "    ld.draw_hatch = False\n",
    "    ld.show_bitmap = True\n",
    "    ld.resolution = 1024\n",
    "    ld.hatch_size = 16\n",
    "    ld.contour_simplify = 2\n",
    "\n",
    "    #print(\"converting To Lines\")\n",
    "    lines = ld.sketch(inFile)\n",
    "    return(lines)"
   ]
  },
  {
   "cell_type": "code",
   "execution_count": null,
   "metadata": {},
   "outputs": [],
   "source": [
    "convertToLinesSvg(\"photos/vespa.png\")"
   ]
  },
  {
   "cell_type": "code",
   "execution_count": null,
   "metadata": {},
   "outputs": [],
   "source": []
  },
  {
   "cell_type": "code",
   "execution_count": null,
   "metadata": {},
   "outputs": [],
   "source": []
  }
 ],
 "metadata": {
  "anaconda-cloud": {},
  "kernelspec": {
   "display_name": "facells",
   "language": "python",
   "name": "facells"
  },
  "language_info": {
   "codemirror_mode": {
    "name": "ipython",
    "version": 3
   },
   "file_extension": ".py",
   "mimetype": "text/x-python",
   "name": "python",
   "nbconvert_exporter": "python",
   "pygments_lexer": "ipython3",
   "version": "3.10.4"
  }
 },
 "nbformat": 4,
 "nbformat_minor": 2
}
